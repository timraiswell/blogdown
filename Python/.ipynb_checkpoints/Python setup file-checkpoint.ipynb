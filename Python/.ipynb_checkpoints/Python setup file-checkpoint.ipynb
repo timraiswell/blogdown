{
 "cells": [
  {
   "cell_type": "code",
   "execution_count": 99,
   "metadata": {},
   "outputs": [],
   "source": [
    "from jupyterthemes import jtplot\n",
    "import numpy as np\n",
    "jtplot.style()\n",
    "import matplotlib as mpl \n",
    "import matplotlib.pyplot as plt \n",
    "import seaborn as sns\n",
    "from scipy import stats\n",
    "%config InlineBackend.figure_format = 'retina' #high def charts\n",
    "import statsmodels\n",
    "import statsmodels.api as sm\n",
    "from statsmodels.formula.api import ols"
   ]
  },
  {
   "cell_type": "code",
   "execution_count": 2,
   "metadata": {},
   "outputs": [],
   "source": [
    "import pandas as pd # import pandas\n",
    "#import University of Sheffield diet data\n",
    "diet = \"https://www.sheffield.ac.uk/polopoly_fs/1.570199!/file/stcp-Rdataset-Diet.csv\"\n",
    "data = pd.read_csv(diet)"
   ]
  },
  {
   "cell_type": "code",
   "execution_count": 46,
   "metadata": {},
   "outputs": [
    {
     "data": {
      "text/html": [
       "<div>\n",
       "<style scoped>\n",
       "    .dataframe tbody tr th:only-of-type {\n",
       "        vertical-align: middle;\n",
       "    }\n",
       "\n",
       "    .dataframe tbody tr th {\n",
       "        vertical-align: top;\n",
       "    }\n",
       "\n",
       "    .dataframe thead th {\n",
       "        text-align: right;\n",
       "    }\n",
       "</style>\n",
       "<table border=\"1\" class=\"dataframe\">\n",
       "  <thead>\n",
       "    <tr style=\"text-align: right;\">\n",
       "      <th></th>\n",
       "      <th>Person</th>\n",
       "      <th>gender</th>\n",
       "      <th>Age</th>\n",
       "      <th>Height</th>\n",
       "      <th>pre.weight</th>\n",
       "      <th>Diet</th>\n",
       "      <th>weight6weeks</th>\n",
       "      <th>Loss</th>\n",
       "    </tr>\n",
       "  </thead>\n",
       "  <tbody>\n",
       "    <tr>\n",
       "      <th>0</th>\n",
       "      <td>25</td>\n",
       "      <td></td>\n",
       "      <td>41</td>\n",
       "      <td>171</td>\n",
       "      <td>60</td>\n",
       "      <td>2</td>\n",
       "      <td>60.0</td>\n",
       "      <td>0.0</td>\n",
       "    </tr>\n",
       "    <tr>\n",
       "      <th>1</th>\n",
       "      <td>26</td>\n",
       "      <td></td>\n",
       "      <td>32</td>\n",
       "      <td>174</td>\n",
       "      <td>103</td>\n",
       "      <td>2</td>\n",
       "      <td>103.0</td>\n",
       "      <td>0.0</td>\n",
       "    </tr>\n",
       "    <tr>\n",
       "      <th>2</th>\n",
       "      <td>1</td>\n",
       "      <td>0</td>\n",
       "      <td>22</td>\n",
       "      <td>159</td>\n",
       "      <td>58</td>\n",
       "      <td>1</td>\n",
       "      <td>54.2</td>\n",
       "      <td>3.8</td>\n",
       "    </tr>\n",
       "    <tr>\n",
       "      <th>3</th>\n",
       "      <td>2</td>\n",
       "      <td>0</td>\n",
       "      <td>46</td>\n",
       "      <td>192</td>\n",
       "      <td>60</td>\n",
       "      <td>1</td>\n",
       "      <td>54.0</td>\n",
       "      <td>6.0</td>\n",
       "    </tr>\n",
       "    <tr>\n",
       "      <th>4</th>\n",
       "      <td>3</td>\n",
       "      <td>0</td>\n",
       "      <td>55</td>\n",
       "      <td>170</td>\n",
       "      <td>64</td>\n",
       "      <td>1</td>\n",
       "      <td>63.3</td>\n",
       "      <td>0.7</td>\n",
       "    </tr>\n",
       "  </tbody>\n",
       "</table>\n",
       "</div>"
      ],
      "text/plain": [
       "   Person gender  Age  Height  pre.weight Diet  weight6weeks  Loss\n",
       "0      25          41     171          60    2          60.0   0.0\n",
       "1      26          32     174         103    2         103.0   0.0\n",
       "2       1      0   22     159          58    1          54.2   3.8\n",
       "3       2      0   46     192          60    1          54.0   6.0\n",
       "4       3      0   55     170          64    1          63.3   0.7"
      ]
     },
     "execution_count": 46,
     "metadata": {},
     "output_type": "execute_result"
    }
   ],
   "source": [
    "data.head() # look at the first five instances in the data"
   ]
  },
  {
   "cell_type": "code",
   "execution_count": null,
   "metadata": {},
   "outputs": [],
   "source": [
    "\n"
   ]
  },
  {
   "cell_type": "code",
   "execution_count": 4,
   "metadata": {},
   "outputs": [],
   "source": [
    "# Create a third column for 'weight.loss' - our variable of interest\n",
    "data['Loss'] = data['pre.weight'] - data['weight6weeks']"
   ]
  },
  {
   "cell_type": "code",
   "execution_count": 5,
   "metadata": {},
   "outputs": [
    {
     "data": {
      "text/html": [
       "<div>\n",
       "<style scoped>\n",
       "    .dataframe tbody tr th:only-of-type {\n",
       "        vertical-align: middle;\n",
       "    }\n",
       "\n",
       "    .dataframe tbody tr th {\n",
       "        vertical-align: top;\n",
       "    }\n",
       "\n",
       "    .dataframe thead th {\n",
       "        text-align: right;\n",
       "    }\n",
       "</style>\n",
       "<table border=\"1\" class=\"dataframe\">\n",
       "  <thead>\n",
       "    <tr style=\"text-align: right;\">\n",
       "      <th></th>\n",
       "      <th>Person</th>\n",
       "      <th>gender</th>\n",
       "      <th>Age</th>\n",
       "      <th>Height</th>\n",
       "      <th>pre.weight</th>\n",
       "      <th>Diet</th>\n",
       "      <th>weight6weeks</th>\n",
       "      <th>Loss</th>\n",
       "    </tr>\n",
       "  </thead>\n",
       "  <tbody>\n",
       "    <tr>\n",
       "      <th>0</th>\n",
       "      <td>25</td>\n",
       "      <td></td>\n",
       "      <td>41</td>\n",
       "      <td>171</td>\n",
       "      <td>60</td>\n",
       "      <td>2</td>\n",
       "      <td>60.0</td>\n",
       "      <td>0.0</td>\n",
       "    </tr>\n",
       "    <tr>\n",
       "      <th>1</th>\n",
       "      <td>26</td>\n",
       "      <td></td>\n",
       "      <td>32</td>\n",
       "      <td>174</td>\n",
       "      <td>103</td>\n",
       "      <td>2</td>\n",
       "      <td>103.0</td>\n",
       "      <td>0.0</td>\n",
       "    </tr>\n",
       "    <tr>\n",
       "      <th>2</th>\n",
       "      <td>1</td>\n",
       "      <td>0</td>\n",
       "      <td>22</td>\n",
       "      <td>159</td>\n",
       "      <td>58</td>\n",
       "      <td>1</td>\n",
       "      <td>54.2</td>\n",
       "      <td>3.8</td>\n",
       "    </tr>\n",
       "    <tr>\n",
       "      <th>3</th>\n",
       "      <td>2</td>\n",
       "      <td>0</td>\n",
       "      <td>46</td>\n",
       "      <td>192</td>\n",
       "      <td>60</td>\n",
       "      <td>1</td>\n",
       "      <td>54.0</td>\n",
       "      <td>6.0</td>\n",
       "    </tr>\n",
       "    <tr>\n",
       "      <th>4</th>\n",
       "      <td>3</td>\n",
       "      <td>0</td>\n",
       "      <td>55</td>\n",
       "      <td>170</td>\n",
       "      <td>64</td>\n",
       "      <td>1</td>\n",
       "      <td>63.3</td>\n",
       "      <td>0.7</td>\n",
       "    </tr>\n",
       "  </tbody>\n",
       "</table>\n",
       "</div>"
      ],
      "text/plain": [
       "   Person gender  Age  Height  pre.weight  Diet  weight6weeks  Loss\n",
       "0      25          41     171          60     2          60.0   0.0\n",
       "1      26          32     174         103     2         103.0   0.0\n",
       "2       1      0   22     159          58     1          54.2   3.8\n",
       "3       2      0   46     192          60     1          54.0   6.0\n",
       "4       3      0   55     170          64     1          63.3   0.7"
      ]
     },
     "execution_count": 5,
     "metadata": {},
     "output_type": "execute_result"
    }
   ],
   "source": [
    "data.head() # checxk to see if the transformation worked"
   ]
  },
  {
   "cell_type": "code",
   "execution_count": 6,
   "metadata": {},
   "outputs": [
    {
     "data": {
      "text/html": [
       "<div>\n",
       "<style scoped>\n",
       "    .dataframe tbody tr th:only-of-type {\n",
       "        vertical-align: middle;\n",
       "    }\n",
       "\n",
       "    .dataframe tbody tr th {\n",
       "        vertical-align: top;\n",
       "    }\n",
       "\n",
       "    .dataframe thead th {\n",
       "        text-align: right;\n",
       "    }\n",
       "</style>\n",
       "<table border=\"1\" class=\"dataframe\">\n",
       "  <thead>\n",
       "    <tr style=\"text-align: right;\">\n",
       "      <th></th>\n",
       "      <th>Person</th>\n",
       "      <th>Age</th>\n",
       "      <th>Height</th>\n",
       "      <th>pre.weight</th>\n",
       "      <th>Diet</th>\n",
       "      <th>weight6weeks</th>\n",
       "      <th>Loss</th>\n",
       "    </tr>\n",
       "  </thead>\n",
       "  <tbody>\n",
       "    <tr>\n",
       "      <th>count</th>\n",
       "      <td>78.000000</td>\n",
       "      <td>78.000000</td>\n",
       "      <td>78.000000</td>\n",
       "      <td>78.000000</td>\n",
       "      <td>78.000000</td>\n",
       "      <td>78.000000</td>\n",
       "      <td>78.000000</td>\n",
       "    </tr>\n",
       "    <tr>\n",
       "      <th>mean</th>\n",
       "      <td>39.500000</td>\n",
       "      <td>39.153846</td>\n",
       "      <td>170.820513</td>\n",
       "      <td>72.525641</td>\n",
       "      <td>2.038462</td>\n",
       "      <td>68.680769</td>\n",
       "      <td>3.844872</td>\n",
       "    </tr>\n",
       "    <tr>\n",
       "      <th>std</th>\n",
       "      <td>22.660538</td>\n",
       "      <td>9.815277</td>\n",
       "      <td>11.276621</td>\n",
       "      <td>8.723344</td>\n",
       "      <td>0.812920</td>\n",
       "      <td>8.924504</td>\n",
       "      <td>2.551478</td>\n",
       "    </tr>\n",
       "    <tr>\n",
       "      <th>min</th>\n",
       "      <td>1.000000</td>\n",
       "      <td>16.000000</td>\n",
       "      <td>141.000000</td>\n",
       "      <td>58.000000</td>\n",
       "      <td>1.000000</td>\n",
       "      <td>53.000000</td>\n",
       "      <td>-2.100000</td>\n",
       "    </tr>\n",
       "    <tr>\n",
       "      <th>25%</th>\n",
       "      <td>20.250000</td>\n",
       "      <td>32.250000</td>\n",
       "      <td>164.250000</td>\n",
       "      <td>66.000000</td>\n",
       "      <td>1.000000</td>\n",
       "      <td>61.850000</td>\n",
       "      <td>2.000000</td>\n",
       "    </tr>\n",
       "    <tr>\n",
       "      <th>50%</th>\n",
       "      <td>39.500000</td>\n",
       "      <td>39.000000</td>\n",
       "      <td>169.500000</td>\n",
       "      <td>72.000000</td>\n",
       "      <td>2.000000</td>\n",
       "      <td>68.950000</td>\n",
       "      <td>3.600000</td>\n",
       "    </tr>\n",
       "    <tr>\n",
       "      <th>75%</th>\n",
       "      <td>58.750000</td>\n",
       "      <td>46.750000</td>\n",
       "      <td>174.750000</td>\n",
       "      <td>78.000000</td>\n",
       "      <td>3.000000</td>\n",
       "      <td>73.825000</td>\n",
       "      <td>5.550000</td>\n",
       "    </tr>\n",
       "    <tr>\n",
       "      <th>max</th>\n",
       "      <td>78.000000</td>\n",
       "      <td>60.000000</td>\n",
       "      <td>201.000000</td>\n",
       "      <td>103.000000</td>\n",
       "      <td>3.000000</td>\n",
       "      <td>103.000000</td>\n",
       "      <td>9.200000</td>\n",
       "    </tr>\n",
       "  </tbody>\n",
       "</table>\n",
       "</div>"
      ],
      "text/plain": [
       "          Person        Age      Height  pre.weight       Diet  weight6weeks  \\\n",
       "count  78.000000  78.000000   78.000000   78.000000  78.000000     78.000000   \n",
       "mean   39.500000  39.153846  170.820513   72.525641   2.038462     68.680769   \n",
       "std    22.660538   9.815277   11.276621    8.723344   0.812920      8.924504   \n",
       "min     1.000000  16.000000  141.000000   58.000000   1.000000     53.000000   \n",
       "25%    20.250000  32.250000  164.250000   66.000000   1.000000     61.850000   \n",
       "50%    39.500000  39.000000  169.500000   72.000000   2.000000     68.950000   \n",
       "75%    58.750000  46.750000  174.750000   78.000000   3.000000     73.825000   \n",
       "max    78.000000  60.000000  201.000000  103.000000   3.000000    103.000000   \n",
       "\n",
       "            Loss  \n",
       "count  78.000000  \n",
       "mean    3.844872  \n",
       "std     2.551478  \n",
       "min    -2.100000  \n",
       "25%     2.000000  \n",
       "50%     3.600000  \n",
       "75%     5.550000  \n",
       "max     9.200000  "
      ]
     },
     "execution_count": 6,
     "metadata": {},
     "output_type": "execute_result"
    }
   ],
   "source": [
    "data.describe() #summarry stats of the variables\n"
   ]
  },
  {
   "cell_type": "code",
   "execution_count": 51,
   "metadata": {},
   "outputs": [
    {
     "name": "stdout",
     "output_type": "stream",
     "text": [
      "Person             int64\n",
      "gender            object\n",
      "Age                int64\n",
      "Height             int64\n",
      "pre.weight         int64\n",
      "Diet            category\n",
      "weight6weeks     float64\n",
      "Loss             float64\n",
      "dtype: object\n"
     ]
    }
   ],
   "source": [
    "print(data.dtypes) # list variable types "
   ]
  },
  {
   "cell_type": "code",
   "execution_count": 8,
   "metadata": {},
   "outputs": [],
   "source": [
    "data['Diet'] = pd.Categorical(data['Diet']) # Change Diet to a categorical variable"
   ]
  },
  {
   "cell_type": "code",
   "execution_count": 9,
   "metadata": {},
   "outputs": [
    {
     "data": {
      "text/plain": [
       "Person             int64\n",
       "gender            object\n",
       "Age                int64\n",
       "Height             int64\n",
       "pre.weight         int64\n",
       "Diet            category\n",
       "weight6weeks     float64\n",
       "Loss             float64\n",
       "dtype: object"
      ]
     },
     "execution_count": 9,
     "metadata": {},
     "output_type": "execute_result"
    }
   ],
   "source": [
    "data.dtypes"
   ]
  },
  {
   "cell_type": "code",
   "execution_count": 55,
   "metadata": {},
   "outputs": [
    {
     "data": {
      "text/plain": [
       "Text(0.5,1,'Figure 1. Boxplot of Weight Loss by Diet Type\\n')"
      ]
     },
     "execution_count": 55,
     "metadata": {},
     "output_type": "execute_result"
    },
    {
     "data": {
      "text/plain": [
       "Text(0,0.5,'Weight Loss')"
      ]
     },
     "execution_count": 55,
     "metadata": {},
     "output_type": "execute_result"
    },
    {
     "data": {
      "text/plain": [
       "Text(0.5,0,'Diet')"
      ]
     },
     "execution_count": 55,
     "metadata": {},
     "output_type": "execute_result"
    },
    {
     "data": {
      "image/png": "[encoded data removed]",
      "text/plain": [
       "<Figure size 460.8x403.2 with 1 Axes>"
      ]
     },
     "metadata": {
      "image/png": {
       "height": 491,
       "width": 594
      }
     },
     "output_type": "display_data"
    }
   ],
   "source": [
    "#create a weight.loss boxplot by diet type using seaborn\n",
    "\n",
    "sns.set(font_scale=1.6) \n",
    "plt.subplots_adjust(left=3, right=4, top=4, bottom=3)\n",
    "ax = sns.boxplot(x = \"Diet\", y = \"Loss\", data = data, \n",
    "                 palette=\"Set1\", \n",
    "                 linewidth = 2)\n",
    "ax.set_title(\"Figure 1. Boxplot of Weight Loss by Diet Type\\n\", fontsize=16)\n",
    "ax.set_ylabel(\"Weight Loss\", rotation = 0, fontsize=16, labelpad=50)\n",
    "ax.set_xlabel(\"Diet\", rotation = 0, fontsize=16)\n"
   ]
  },
  {
   "cell_type": "code",
   "execution_count": 95,
   "metadata": {},
   "outputs": [
    {
     "data": {
      "text/plain": [
       "(array([ 2.,  7., 12., 17., 14., 12.,  8.,  6.]),\n",
       " array([-2.1   , -0.6875,  0.725 ,  2.1375,  3.55  ,  4.9625,  6.375 ,\n",
       "         7.7875,  9.2   ]),\n",
       " <a list of 8 Patch objects>)"
      ]
     },
     "execution_count": 95,
     "metadata": {},
     "output_type": "execute_result"
    },
    {
     "data": {
      "image/png": "[encoded data removed]",
      "text/plain": [
       "<Figure size 460.8x403.2 with 1 Axes>"
      ]
     },
     "metadata": {
      "image/png": {
       "height": 335,
       "width": 391
      }
     },
     "output_type": "display_data"
    }
   ],
   "source": [
    "plt.hist(data['Loss'], bins='auto') # check for variable normality in weight loss dependent variable. \n",
    "#Data looks normally distributed.\n"
   ]
  },
  {
   "cell_type": "code",
   "execution_count": 105,
   "metadata": {},
   "outputs": [
    {
     "data": {
      "text/plain": [
       "NormaltestResult(statistic=0.8256032683724894, pvalue=0.6617935470237468)"
      ]
     },
     "execution_count": 105,
     "metadata": {},
     "output_type": "execute_result"
    }
   ],
   "source": [
    "stats.normaltest(data['Loss'], axis=0) # statistical normality test to check the visual test."
   ]
  },
  {
   "cell_type": "code",
   "execution_count": 82,
   "metadata": {},
   "outputs": [],
   "source": [
    "from statsmodels.formula.api import ols\n",
    "model = ols(\"Loss ~ Diet\", data).fit()"
   ]
  },
  {
   "cell_type": "code",
   "execution_count": 84,
   "metadata": {},
   "outputs": [
    {
     "name": "stdout",
     "output_type": "stream",
     "text": [
      "                            OLS Regression Results                            \n",
      "==============================================================================\n",
      "Dep. Variable:                   Loss   R-squared:                       0.142\n",
      "Model:                            OLS   Adj. R-squared:                  0.119\n",
      "Method:                 Least Squares   F-statistic:                     6.197\n",
      "Date:                Sun, 27 May 2018   Prob (F-statistic):            0.00323\n",
      "Time:                        15:49:14   Log-Likelihood:                -177.27\n",
      "No. Observations:                  78   AIC:                             360.5\n",
      "Df Residuals:                      75   BIC:                             367.6\n",
      "Df Model:                           2                                         \n",
      "Covariance Type:            nonrobust                                         \n",
      "==============================================================================\n",
      "                 coef    std err          t      P>|t|      [0.025      0.975]\n",
      "------------------------------------------------------------------------------\n",
      "Intercept      3.3000      0.489      6.750      0.000       2.326       4.274\n",
      "Diet[T.2]     -0.2741      0.672     -0.408      0.684      -1.613       1.064\n",
      "Diet[T.3]      1.8481      0.672      2.751      0.007       0.510       3.187\n",
      "==============================================================================\n",
      "Omnibus:                        0.064   Durbin-Watson:                   1.898\n",
      "Prob(Omnibus):                  0.968   Jarque-Bera (JB):                0.230\n",
      "Skew:                           0.036   Prob(JB):                        0.891\n",
      "Kurtosis:                       2.744   Cond. No.                         3.87\n",
      "==============================================================================\n",
      "\n",
      "Warnings:\n",
      "[1] Standard Errors assume that the covariance matrix of the errors is correctly specified.\n"
     ]
    }
   ],
   "source": [
    "print(model.summary())"
   ]
  },
  {
   "cell_type": "code",
   "execution_count": 103,
   "metadata": {},
   "outputs": [
    {
     "ename": "AttributeError",
     "evalue": "'numpy.ndarray' object has no attribute 'model'",
     "output_type": "error",
     "traceback": [
      "\u001b[0;31m---------------------------------------------------------------------------\u001b[0m",
      "\u001b[0;31mAttributeError\u001b[0m                            Traceback (most recent call last)",
      "\u001b[0;32m<ipython-input-103-5b52a9b9548a>\u001b[0m in \u001b[0;36m<module>\u001b[0;34m()\u001b[0m\n\u001b[0;32m----> 1\u001b[0;31m \u001b[0mtable\u001b[0m \u001b[0;34m=\u001b[0m \u001b[0msm\u001b[0m\u001b[0;34m.\u001b[0m\u001b[0mstats\u001b[0m\u001b[0;34m.\u001b[0m\u001b[0manova_lm\u001b[0m\u001b[0;34m(\u001b[0m\u001b[0ma\u001b[0m\u001b[0;34m,\u001b[0m \u001b[0mtyp\u001b[0m\u001b[0;34m=\u001b[0m\u001b[0;36m2\u001b[0m\u001b[0;34m)\u001b[0m \u001b[0;31m# Type 2 ANOVA DataFrame\u001b[0m\u001b[0;34m\u001b[0m\u001b[0m\n\u001b[0m\u001b[1;32m      2\u001b[0m \u001b[0mprint\u001b[0m\u001b[0;34m(\u001b[0m\u001b[0mtable\u001b[0m\u001b[0;34m)\u001b[0m\u001b[0;34m\u001b[0m\u001b[0m\n",
      "\u001b[0;32m/usr/local/lib/python3.6/site-packages/statsmodels/stats/anova.py\u001b[0m in \u001b[0;36manova_lm\u001b[0;34m(*args, **kwargs)\u001b[0m\n\u001b[1;32m    324\u001b[0m     \u001b[0;32mif\u001b[0m \u001b[0mlen\u001b[0m\u001b[0;34m(\u001b[0m\u001b[0margs\u001b[0m\u001b[0;34m)\u001b[0m \u001b[0;34m==\u001b[0m \u001b[0;36m1\u001b[0m\u001b[0;34m:\u001b[0m\u001b[0;34m\u001b[0m\u001b[0m\n\u001b[1;32m    325\u001b[0m         \u001b[0mmodel\u001b[0m \u001b[0;34m=\u001b[0m \u001b[0margs\u001b[0m\u001b[0;34m[\u001b[0m\u001b[0;36m0\u001b[0m\u001b[0;34m]\u001b[0m\u001b[0;34m\u001b[0m\u001b[0m\n\u001b[0;32m--> 326\u001b[0;31m         \u001b[0;32mreturn\u001b[0m \u001b[0manova_single\u001b[0m\u001b[0;34m(\u001b[0m\u001b[0mmodel\u001b[0m\u001b[0;34m,\u001b[0m \u001b[0;34m**\u001b[0m\u001b[0mkwargs\u001b[0m\u001b[0;34m)\u001b[0m\u001b[0;34m\u001b[0m\u001b[0m\n\u001b[0m\u001b[1;32m    327\u001b[0m \u001b[0;34m\u001b[0m\u001b[0m\n\u001b[1;32m    328\u001b[0m     \u001b[0;32mtry\u001b[0m\u001b[0;34m:\u001b[0m\u001b[0;34m\u001b[0m\u001b[0m\n",
      "\u001b[0;32m/usr/local/lib/python3.6/site-packages/statsmodels/stats/anova.py\u001b[0m in \u001b[0;36manova_single\u001b[0;34m(model, **kwargs)\u001b[0m\n\u001b[1;32m     61\u001b[0m         \u001b[0mrobust\u001b[0m \u001b[0;34m=\u001b[0m \u001b[0mrobust\u001b[0m\u001b[0;34m.\u001b[0m\u001b[0mlower\u001b[0m\u001b[0;34m(\u001b[0m\u001b[0;34m)\u001b[0m\u001b[0;34m\u001b[0m\u001b[0m\n\u001b[1;32m     62\u001b[0m \u001b[0;34m\u001b[0m\u001b[0m\n\u001b[0;32m---> 63\u001b[0;31m     \u001b[0mendog\u001b[0m \u001b[0;34m=\u001b[0m \u001b[0mmodel\u001b[0m\u001b[0;34m.\u001b[0m\u001b[0mmodel\u001b[0m\u001b[0;34m.\u001b[0m\u001b[0mendog\u001b[0m\u001b[0;34m\u001b[0m\u001b[0m\n\u001b[0m\u001b[1;32m     64\u001b[0m     \u001b[0mexog\u001b[0m \u001b[0;34m=\u001b[0m \u001b[0mmodel\u001b[0m\u001b[0;34m.\u001b[0m\u001b[0mmodel\u001b[0m\u001b[0;34m.\u001b[0m\u001b[0mexog\u001b[0m\u001b[0;34m\u001b[0m\u001b[0m\n\u001b[1;32m     65\u001b[0m     \u001b[0mnobs\u001b[0m \u001b[0;34m=\u001b[0m \u001b[0mexog\u001b[0m\u001b[0;34m.\u001b[0m\u001b[0mshape\u001b[0m\u001b[0;34m[\u001b[0m\u001b[0;36m0\u001b[0m\u001b[0;34m]\u001b[0m\u001b[0;34m\u001b[0m\u001b[0m\n",
      "\u001b[0;31mAttributeError\u001b[0m: 'numpy.ndarray' object has no attribute 'model'"
     ]
    }
   ],
   "source": [
    "table = sm.stats.anova_lm(model, typ=2) # Type 2 ANOVA DataFrame\n",
    "print(table)"
   ]
  },
  {
   "cell_type": "code",
   "execution_count": 101,
   "metadata": {},
   "outputs": [],
   "source": [
    "a = np.random.normal(0, 1, size=1000)"
   ]
  },
  {
   "cell_type": "code",
   "execution_count": 102,
   "metadata": {},
   "outputs": [
    {
     "data": {
      "text/plain": [
       "array([ 3.69709551e-01,  1.34770110e+00, -1.24913800e+00,  7.78674998e-01,\n",
       "       -9.80713239e-01, -1.34449799e+00,  1.38868200e+00,  1.14643364e-01,\n",
       "       -3.42402904e-01, -1.46373172e-01,  5.69035472e-01,  4.54530436e-01,\n",
       "        4.69561550e-01,  1.47417480e+00,  1.26440879e+00,  9.47915352e-01,\n",
       "        1.96945724e+00, -2.21329418e-01, -2.48925665e-01,  1.40431177e-01,\n",
       "        1.38198110e+00,  1.66098509e+00, -1.41921017e+00,  1.24038220e+00,\n",
       "       -1.07737859e+00,  3.82504065e-01,  1.78786832e+00,  8.36645386e-01,\n",
       "       -4.87914550e-01, -5.36145637e-01, -2.96530936e-01,  6.46455068e-01,\n",
       "        6.43034293e-01, -6.69487550e-01,  8.48962602e-02,  9.62532574e-01,\n",
       "       -2.03786596e-01, -5.04065663e-01, -9.60193808e-02, -8.61219874e-01,\n",
       "        1.75792521e+00,  3.12831911e-01,  7.88904006e-01,  8.63356445e-01,\n",
       "       -7.59477725e-02, -5.99654651e-01, -6.17186995e-01,  5.67277538e-01,\n",
       "        9.89747910e-01, -5.13780252e-01, -3.69931877e-01,  3.38376745e-01,\n",
       "        4.00382491e-01,  7.83279449e-01, -7.43456305e-01, -8.60585401e-01,\n",
       "       -2.06498996e+00,  1.91775081e-01,  3.04258669e-01, -5.91070342e-01,\n",
       "        1.42349140e-01, -4.89651988e-01,  2.03335835e+00,  1.97183623e+00,\n",
       "       -1.19234713e+00, -5.66607119e-01, -2.28991535e+00,  6.52793326e-01,\n",
       "        1.29570568e-01,  2.03112886e-02, -2.66256238e-01, -1.73608577e+00,\n",
       "        1.33392470e-01,  7.84572170e-01, -1.70335813e-01, -1.83316072e-01,\n",
       "       -1.99236977e-03, -1.37285634e+00, -5.86605690e-01, -3.35350573e-01,\n",
       "        1.00201208e+00,  2.73893411e-01,  8.89390841e-01, -1.41881472e+00,\n",
       "        6.44327687e-01, -1.68702103e+00,  8.41877345e-02,  1.12272826e+00,\n",
       "        1.77873206e+00,  2.69461402e-01,  1.49418834e-01,  7.65992769e-01,\n",
       "       -3.85256348e-02, -5.58674915e-01, -1.13386097e+00,  1.05197585e+00,\n",
       "        1.01528211e+00, -1.61947514e-01, -1.10192028e-01, -2.90746687e-01,\n",
       "       -6.12516687e-01,  1.64619253e+00,  9.63931386e-01, -4.68370919e-02,\n",
       "        3.97584359e-01,  4.90177010e-01, -1.44124557e-01, -3.51241328e-01,\n",
       "       -1.33531142e+00, -1.37518111e-01, -3.80287753e-01, -4.20832475e-01,\n",
       "       -1.20178914e-01,  1.09499323e+00,  5.27812187e-01,  1.36764491e+00,\n",
       "        8.85896699e-01,  1.69273322e+00, -1.80150209e-01, -1.52492553e+00,\n",
       "       -4.80763143e-01,  4.14585984e-01,  1.85936963e-01,  7.43794458e-01,\n",
       "        8.66536996e-01, -2.58825149e+00,  9.25182591e-01, -8.14748455e-01,\n",
       "       -6.92343228e-01,  1.67358269e+00,  1.14690159e+00,  2.98748533e-01,\n",
       "        1.04684565e-01,  9.81483015e-01, -2.81865410e-01, -8.42950497e-01,\n",
       "        1.56518003e+00,  1.08049662e+00, -1.83412068e-01,  1.32864554e+00,\n",
       "        1.58109834e+00, -2.60946983e+00,  4.57157287e-01, -1.36521082e+00,\n",
       "       -7.04809358e-01,  1.27441532e+00,  1.05182168e+00,  2.08588084e-02,\n",
       "       -5.04992129e-01,  8.15564859e-01,  1.67117242e-01,  2.97526581e-02,\n",
       "        7.06112799e-01, -5.35505489e-01,  1.43223363e+00,  6.46442781e-01,\n",
       "       -6.74027855e-01, -1.57341809e+00,  1.79605704e+00,  9.18245591e-02,\n",
       "       -1.48561712e+00, -4.67056369e-01, -1.65604368e+00, -3.45292713e-01,\n",
       "       -6.70013305e-01,  6.28307241e-01, -7.46489275e-01,  2.68150288e-02,\n",
       "        1.62303817e+00,  6.67899280e-01, -1.43562428e+00,  4.11492315e-01,\n",
       "        4.91325549e-01,  5.00574886e-02,  3.20972814e-01, -1.03750165e-01,\n",
       "       -3.46414125e-02,  3.31116586e-01,  4.26422658e-01, -7.95613926e-01,\n",
       "       -4.88325051e-01, -4.48148628e-01, -3.80106741e-01,  5.59588996e-01,\n",
       "        8.61505379e-01,  7.82785895e-01, -2.00381139e-01,  1.21488463e+00,\n",
       "       -1.14610853e+00, -1.14776072e-01, -7.95948395e-01, -9.49750804e-01,\n",
       "        2.69734151e-01, -1.14379204e-01,  1.99253843e-01,  1.61308995e+00,\n",
       "        9.39516558e-01,  2.00146538e+00, -2.98197010e+00,  1.04134846e+00,\n",
       "       -5.33908920e-01,  4.89434933e-01,  1.36653873e+00, -1.41845428e+00,\n",
       "        9.53941302e-01,  8.74296513e-01,  1.92438358e+00,  5.01940205e-01,\n",
       "        4.58170389e-01,  5.28182309e-01,  7.21523336e-01, -1.90764418e-02,\n",
       "       -1.43574419e-01, -5.74982911e-01, -2.69192658e-01, -6.87246676e-01,\n",
       "        2.24888356e+00,  2.22235323e-02, -1.74982720e+00,  5.26693571e-01,\n",
       "        1.07743484e+00,  8.53388450e-01,  5.04248592e-01,  9.37314090e-02,\n",
       "        1.22886449e+00, -6.20859063e-01,  5.70955284e-01, -4.00970317e-01,\n",
       "       -3.50392365e+00,  9.47315015e-01, -2.57856315e-02, -1.08657632e+00,\n",
       "       -7.99787301e-01, -1.09667089e+00, -7.65893359e-01,  2.23898975e-01,\n",
       "        8.38319271e-01, -5.15533606e-01, -6.09923514e-01, -9.15290757e-01,\n",
       "       -1.81784113e+00, -7.33183959e-01,  1.24609915e+00, -1.15718252e+00,\n",
       "        1.41904731e+00,  8.98125021e-01,  9.73298902e-01,  3.85199501e-02,\n",
       "        2.62422231e-01, -4.35759180e-01,  1.69873932e+00, -2.73003716e+00,\n",
       "        1.30498204e+00,  1.39393677e+00,  4.18101814e-01, -1.68515622e-02,\n",
       "       -1.85101506e-01,  1.04773556e+00,  8.91307153e-01, -1.79002086e-01,\n",
       "        1.83360623e+00,  7.41456282e-01, -3.54397330e-01, -3.57063304e-01,\n",
       "       -1.08452521e-01, -2.51779161e-01,  2.73495198e-01, -6.63331710e-03,\n",
       "       -2.83054758e-02, -2.87691162e+00,  2.11622631e+00, -8.86835750e-03,\n",
       "       -2.88398608e-01,  3.67293385e-01, -1.81141622e+00,  4.42606194e-02,\n",
       "        1.51864642e+00,  1.29125329e-01,  2.93812699e-01, -1.00055335e+00,\n",
       "       -2.13405822e-01,  2.35553096e-01, -6.13746592e-01, -4.97315324e-01,\n",
       "        1.19754577e+00, -1.06473884e+00,  3.23706328e-01, -2.02431497e-01,\n",
       "        7.85156008e-01,  1.55947355e+00,  1.02284609e+00, -3.79657471e-01,\n",
       "        9.63243292e-01,  3.57842387e-01,  1.14855038e+00,  9.37077899e-02,\n",
       "        6.92203706e-01, -1.34783774e-01, -7.15723126e-02,  6.32843108e-01,\n",
       "        5.52012221e-01, -4.18080433e-01, -8.76306250e-02,  8.67201533e-01,\n",
       "       -1.63631775e+00,  2.16433570e-01, -7.93203594e-02,  1.14134725e+00,\n",
       "       -5.90844650e-01, -1.18882569e+00,  1.11890706e+00, -4.88662692e-02,\n",
       "        6.23070900e-01, -4.97108562e-01, -3.23507147e-01, -1.98972107e+00,\n",
       "        7.31548277e-01, -1.61533860e+00,  1.91841668e-01,  1.15102269e-01,\n",
       "        1.01851619e+00, -4.35042184e-01,  1.65248292e+00, -1.21568238e+00,\n",
       "        1.74171135e-02,  5.91663810e-01, -1.28670983e+00, -7.06225763e-01,\n",
       "        1.97853135e+00,  1.26548837e+00,  1.07879329e+00,  6.73767448e-01,\n",
       "       -4.99607962e-01,  4.01029181e-01, -1.55217739e+00,  1.28807896e-01,\n",
       "       -1.26260013e-01, -1.40023589e+00, -1.80212188e+00,  8.55036719e-01,\n",
       "        2.57516551e-01,  9.56162888e-01, -5.44846785e-01,  8.07436701e-01,\n",
       "        2.49336307e+00, -8.53623367e-01,  8.76600356e-01,  2.08193008e+00,\n",
       "       -6.64022789e-02, -1.51828173e+00, -3.29717053e-01, -4.73774888e-02,\n",
       "       -8.26503480e-01,  4.67807578e-01,  1.42043022e+00,  9.74987435e-01,\n",
       "       -3.27571201e-02,  1.01638828e-01,  1.66458580e+00, -4.60425418e-01,\n",
       "       -9.57071000e-02, -2.67625576e+00, -1.20381132e+00,  9.62608298e-03,\n",
       "       -1.10338396e-01, -4.48802649e-01,  1.15846738e+00,  5.94778974e-01,\n",
       "       -2.94948085e-02, -4.51955720e-01,  9.01448747e-01,  3.01147238e-01,\n",
       "       -5.72142229e-01, -6.19084852e-01, -2.70323304e+00, -7.56008893e-01,\n",
       "        2.22815903e-01,  6.72547589e-02,  1.09347400e+00, -9.24204875e-01,\n",
       "       -7.38306720e-01,  1.26729726e-01,  2.33937025e-01,  1.43139936e-01,\n",
       "       -2.89250444e-01, -1.03883335e+00,  9.86181274e-01,  8.47472702e-01,\n",
       "        7.34709651e-01,  5.95956976e-03,  2.21858491e-01,  5.45934005e-02,\n",
       "       -1.46126333e-01, -1.62643633e+00, -2.88273953e-01,  5.40210811e-01,\n",
       "        7.65085628e-01, -5.20541362e-03,  1.03845771e+00,  1.61363585e-01,\n",
       "        2.40663817e-01,  2.47352698e-02,  3.70328998e-01,  1.26754661e+00,\n",
       "        1.26561160e+00, -6.73189152e-01,  7.34133680e-02, -1.24216492e+00,\n",
       "        1.43447668e+00,  6.91144730e-01,  2.86784650e-01,  8.58238370e-01,\n",
       "        1.31782057e+00,  1.28978378e+00, -3.76913941e-01,  1.47048540e+00,\n",
       "        1.09932221e+00,  7.02947844e-01,  1.03157454e+00, -3.01602856e-01,\n",
       "        5.56853582e-01, -2.73364479e-01, -5.40642726e-01, -6.41053998e-01,\n",
       "        1.15957264e+00,  1.03548205e+00, -1.23834529e+00,  1.12715631e+00,\n",
       "       -3.73014599e-01,  1.02743851e+00, -1.12745959e+00,  2.27928331e-02,\n",
       "       -1.10471467e+00,  2.17605417e-01, -1.95268127e+00, -8.84772526e-01,\n",
       "        5.28418038e-01,  3.83295204e-01, -1.43928992e+00, -7.27322079e-01,\n",
       "        1.45216555e-01,  5.64318375e-01, -5.96514419e-01,  1.81121845e+00,\n",
       "        5.05217071e-01, -7.88941493e-02, -1.21829037e+00, -1.36810731e+00,\n",
       "       -1.89213747e+00,  8.07688407e-01, -1.92093181e+00, -1.12617477e+00,\n",
       "       -1.14156034e+00, -1.14955359e-01,  4.25536696e-01,  1.23059051e-02,\n",
       "       -1.17858151e-01,  1.52846872e+00,  1.01723285e+00,  6.56454597e-01,\n",
       "       -7.97423176e-01, -1.28276703e+00, -2.31562554e-01, -1.33861139e+00,\n",
       "       -8.35703753e-01, -2.13363598e-01,  1.87824550e+00,  1.03137681e+00,\n",
       "        9.10557073e-01, -4.91168319e-01,  1.90117714e+00,  1.29495862e+00,\n",
       "       -1.40777420e+00,  8.34243390e-01,  1.24730006e+00, -1.85652710e-01,\n",
       "       -8.60468171e-01,  1.70935486e+00, -3.85454801e-02, -6.61388938e-01,\n",
       "       -1.78447362e+00,  1.86108962e+00,  4.80442552e-01, -1.06016069e+00,\n",
       "       -3.61887187e-01,  6.74702665e-01,  1.85588285e+00,  6.11344738e-01,\n",
       "        6.51120302e-01,  6.57469477e-01, -3.68670162e-02, -3.20135068e-01,\n",
       "        6.65945431e-02, -6.73880836e-01, -6.86276625e-01, -4.55286375e-02,\n",
       "        9.13972274e-01,  4.15609141e-01,  4.77201957e-01, -1.45620009e+00,\n",
       "        9.70903020e-01, -1.05523055e+00,  2.22313481e+00,  8.80667676e-01,\n",
       "        8.28853223e-01, -2.45835852e-01,  3.03960561e-01, -5.12812272e-02,\n",
       "        1.26107297e+00,  3.19054404e-01,  8.19547201e-01, -5.05729842e-02,\n",
       "       -2.41727401e+00,  9.50544654e-01,  2.88037222e-01, -1.40302907e+00,\n",
       "        4.52396817e-01, -5.33595465e-01, -8.67992366e-01, -8.57869741e-01,\n",
       "        1.11034629e+00, -2.77483143e-02,  1.20239093e+00, -1.45206683e+00,\n",
       "       -2.33334698e-01, -5.94059797e-01,  1.26159539e-01, -1.32001016e+00,\n",
       "        8.35297155e-01, -2.02943900e+00, -6.58113691e-01,  2.16565623e-01,\n",
       "        6.64287424e-01, -1.83621151e+00, -8.80380328e-01,  4.67907007e-01,\n",
       "       -9.45471119e-01, -9.47261392e-01, -1.13986495e+00,  9.67556937e-01,\n",
       "       -2.26868605e-02, -2.67183613e-01, -1.96855590e-02, -7.06713958e-01,\n",
       "       -3.27710954e-01, -1.22407216e+00, -1.10615452e+00,  4.49352936e-01,\n",
       "        2.10581449e+00, -6.97271408e-01, -5.07734880e-01,  2.26288106e+00,\n",
       "        2.02144710e+00, -3.80976243e-02,  1.47262621e+00, -1.43528415e+00,\n",
       "        5.82884804e-01, -5.95945637e-01,  5.67783693e-01, -9.67385612e-02,\n",
       "       -6.41583033e-01, -8.04717695e-01,  4.70727070e-01,  3.22330874e-02,\n",
       "        3.31319081e-01,  8.06501437e-03,  1.10226471e+00, -9.69386583e-01,\n",
       "       -8.09709056e-01,  7.89913073e-01,  7.66755631e-01,  2.81088505e-01,\n",
       "        1.42850398e-01,  8.92161674e-02,  1.15340977e+00,  7.81701955e-01,\n",
       "        9.30158567e-01,  9.84610067e-01,  8.79904415e-01,  6.95437866e-01,\n",
       "        1.22275805e+00, -2.81786279e-01,  9.95296923e-01, -1.10733294e-01,\n",
       "       -7.45056273e-01, -2.46544704e-01,  4.58868176e-01, -1.03303876e+00,\n",
       "        2.18682390e-01, -1.11024836e-01,  1.01118935e-01,  8.68619684e-01,\n",
       "       -3.96326641e-01,  4.20522235e-01, -1.24203606e+00, -2.05915600e-01,\n",
       "       -4.41318447e-01, -2.40723052e-02, -3.51838871e-02,  8.70275556e-01,\n",
       "       -6.87331455e-01,  1.19027481e+00, -2.78332957e+00,  1.16113331e+00,\n",
       "       -2.73263542e-01, -3.68364690e-01,  7.35119217e-01, -1.82363945e+00,\n",
       "        8.46342557e-01, -1.36086682e+00,  2.50531142e+00,  6.06719356e-01,\n",
       "       -6.55847088e-01,  7.55285886e-01, -1.40069705e+00,  7.59432935e-01,\n",
       "       -5.12349082e-01, -7.17380613e-01,  1.65946021e+00,  7.80332908e-01,\n",
       "        1.53198568e+00, -5.48363566e-01,  6.44018671e-01,  5.60127966e-01,\n",
       "        9.55852310e-01, -1.14007829e+00,  2.78690299e-01, -4.56889298e-02,\n",
       "        1.81098419e+00,  3.64588070e-02,  1.09446428e+00,  2.16277062e-01,\n",
       "       -4.61202108e-01,  1.84393843e-01,  3.63338217e-01,  4.01323910e-02,\n",
       "       -6.99204705e-01,  1.93685177e-01,  3.49142970e-01, -1.00850405e+00,\n",
       "       -1.87671328e+00,  1.96569520e+00,  2.10208859e+00, -3.25801908e-01,\n",
       "        1.43442601e+00,  1.41771020e+00, -7.10059614e-01,  1.18745709e-01,\n",
       "        5.74094073e-01,  5.35022889e-01,  1.63205489e+00, -1.23983849e+00,\n",
       "        5.71365128e-01, -5.55569671e-01, -4.72247847e-01, -1.28745240e-01,\n",
       "       -6.68549171e-01, -4.66384706e-01, -5.15033780e-01, -1.16443544e-01,\n",
       "       -4.64755220e-01,  7.72575719e-01, -6.18471527e-01,  4.41163426e-01,\n",
       "        2.35625150e-02,  4.26587930e-01, -1.92217703e-01,  8.78526541e-01,\n",
       "        5.70789649e-01, -4.70138349e-01, -3.63851203e-01,  9.44662040e-01,\n",
       "       -2.14381627e-01, -1.61237998e+00,  1.15007565e+00, -2.52240955e+00,\n",
       "        3.08195807e-01,  8.18216373e-01, -1.78174629e+00, -1.08617041e+00,\n",
       "        1.10039018e+00, -4.42379515e-01, -6.71858844e-01, -2.30788533e-02,\n",
       "        2.31907063e-01,  2.25858906e-01, -4.72136503e-01, -1.57181050e+00,\n",
       "        5.00914132e-01, -2.90283421e-01, -4.43954847e-01,  3.32829408e-02,\n",
       "        1.88263434e+00, -6.93531701e-01,  1.30328837e+00,  9.07843025e-02,\n",
       "        1.58968623e+00, -5.30313903e-01, -3.01193691e-01,  1.03844526e+00,\n",
       "       -1.00367317e+00,  2.07254026e-01, -3.73108029e-01, -5.49179649e-01,\n",
       "       -4.60606789e-01, -4.28844196e-04,  6.52416188e-01, -2.02847725e+00,\n",
       "        9.67590961e-01, -2.63155672e-01, -6.45668732e-01, -1.12590924e+00,\n",
       "       -2.71586115e-01,  6.60841426e-01,  8.40847976e-01,  1.62550915e+00,\n",
       "       -3.07258619e-01, -1.77447587e+00,  2.73061334e+00, -2.55428130e-01,\n",
       "       -8.99302132e-01,  2.01603671e+00,  1.32019341e+00, -1.04853041e-01,\n",
       "        3.04186570e+00,  2.34340640e-01, -2.08469452e+00, -8.91891000e-01,\n",
       "       -1.63315934e+00, -7.52381584e-01, -8.78831984e-01, -2.63302132e-02,\n",
       "       -1.44286744e+00,  5.89454830e-01,  3.56729393e-01,  5.04741309e-01,\n",
       "        9.22922577e-01, -1.41003916e+00, -3.13798020e-01,  2.04020059e+00,\n",
       "        6.10415465e-01,  1.82393923e+00,  1.33483946e+00,  3.26359082e-01,\n",
       "       -6.23495633e-03, -1.04756274e+00, -3.11618763e-01,  1.88916465e+00,\n",
       "        6.08486491e-01, -1.02261296e+00, -1.88097454e+00, -1.05006980e+00,\n",
       "        1.26117130e-01,  7.74388079e-01, -1.00298193e+00,  6.72824884e-01,\n",
       "        1.54488915e+00, -6.96027743e-01,  2.11057812e+00, -4.67976932e-01,\n",
       "        1.03480484e+00, -1.15283782e-01, -2.95619429e-01,  3.15259123e+00,\n",
       "       -1.17163113e+00,  9.43232062e-01, -6.29828180e-02, -1.19850684e+00,\n",
       "       -4.29473495e-01,  1.93049889e+00,  4.41717070e-01,  6.26656162e-01,\n",
       "        4.33978712e-01,  2.52561196e-02, -1.09214095e+00,  9.97930162e-01,\n",
       "        4.31684948e-01,  3.03460386e-01, -1.52180446e+00,  6.03943439e-02,\n",
       "       -2.19930065e-01, -1.28421453e+00,  1.55373022e-01,  1.55750910e+00,\n",
       "       -2.27775690e-01, -9.11702473e-01,  2.38218087e+00, -1.67338694e+00,\n",
       "        1.03734028e-01, -2.12585165e-01,  1.35428595e+00,  6.06336355e-01,\n",
       "       -1.28839812e-01,  1.74236820e+00,  7.60449512e-01, -7.30296941e-01,\n",
       "        2.49133826e+00, -3.79391365e-01,  1.35274723e+00,  1.10428566e+00,\n",
       "        3.63574609e-01, -4.05065929e-01,  3.20592246e-01, -1.22442500e+00,\n",
       "        6.07442820e-02,  3.30766866e-01, -8.35514906e-01, -2.37439795e-01,\n",
       "       -1.91160542e-01, -1.20886034e+00, -2.46183701e-01,  1.55894093e+00,\n",
       "        1.05368021e+00, -3.55410292e-01, -2.04965016e-01,  4.78703219e-01,\n",
       "       -8.74728667e-01, -9.71583501e-01, -1.99076965e+00, -7.89232251e-01,\n",
       "       -1.07480536e+00,  1.97952133e+00, -1.79647176e-01, -1.10103965e+00,\n",
       "        7.03100250e-01,  5.69868333e-02,  4.86889270e-01,  1.07970654e+00,\n",
       "       -1.17021868e+00, -1.40591000e+00,  6.57952661e-01,  1.67760003e+00,\n",
       "        1.99481457e+00,  1.56898171e+00, -1.57785398e+00,  1.25184643e-01,\n",
       "       -8.30323682e-02,  3.52712222e-01,  2.79265004e-01, -1.46436027e+00,\n",
       "        3.68387910e-01, -3.71441643e-02, -1.32357829e+00,  9.97889289e-01,\n",
       "        1.41937592e-01,  1.62528626e-01, -2.06004809e-01,  1.40118565e-01,\n",
       "        1.64854005e+00, -5.36874764e-01,  1.36571572e+00, -2.78785279e-01,\n",
       "       -7.14128071e-01, -2.57495983e+00, -4.59839147e-01, -1.84609458e+00,\n",
       "       -6.84987781e-01, -1.95787146e+00,  2.10328782e-01, -4.42892749e-01,\n",
       "        1.36614796e+00, -6.39131277e-01,  9.75633332e-01,  7.91740524e-01,\n",
       "        2.72005353e-01, -2.58223227e-02, -3.08299779e-01, -6.87855596e-01,\n",
       "       -3.08427927e-01, -6.46097626e-01,  8.63843583e-01, -4.65493465e-01,\n",
       "        4.29277270e-01, -2.48196429e-01, -9.10591010e-02, -4.64494775e-01,\n",
       "        1.25626863e+00, -5.01680239e-01, -3.61258879e-01, -4.57341837e-01,\n",
       "        8.43265804e-01, -8.63208629e-01, -8.76126591e-01,  1.19190378e-01,\n",
       "       -5.30534663e-01,  1.82188076e-01,  4.13004712e-01, -8.03916620e-01,\n",
       "       -3.80072195e-01, -1.79948520e+00,  2.80591004e-01,  6.06517321e-01,\n",
       "       -8.52908563e-01,  1.09864098e+00, -7.57119525e-01, -1.15670810e+00,\n",
       "       -2.59095885e-01,  1.27118742e-01,  1.02798074e+00,  1.32845691e+00,\n",
       "       -7.40144815e-01, -1.26271361e+00,  7.47026307e-02,  1.36426874e+00,\n",
       "        2.02099092e-01,  6.90704737e-01, -1.16618626e+00,  3.34264798e-01,\n",
       "        8.44648121e-01, -3.86013405e-01,  2.88358667e-01, -1.45597075e+00,\n",
       "       -3.01364792e-02, -6.66497383e-01,  4.34927850e-01, -5.52894394e-01,\n",
       "       -1.68789310e-01,  5.70853816e-01, -1.11165151e-01, -7.39627568e-02,\n",
       "        1.09533751e+00, -8.41520804e-02,  7.68259426e-01, -3.72031422e-01,\n",
       "       -1.31950681e-02,  3.00384823e-02, -1.42551210e+00,  7.76577204e-01,\n",
       "       -5.10919146e-01,  1.28471759e+00, -4.92165674e-01, -1.37399182e+00,\n",
       "       -9.85358325e-01,  7.22843858e-01, -1.83286701e-02,  5.43773463e-01,\n",
       "        2.70998631e-01,  7.61401767e-01, -8.94662200e-01,  6.63019992e-01,\n",
       "       -8.53717267e-01,  1.42944689e+00,  1.43919910e+00, -1.05238653e+00,\n",
       "       -2.46239232e+00, -2.77832343e-01,  7.18460213e-01,  1.35306702e+00,\n",
       "        7.52449095e-01, -3.82565716e-01, -5.44602693e-01, -2.10586134e+00,\n",
       "       -1.76320816e-01, -1.35349538e+00, -1.80760782e+00, -4.38696878e-01,\n",
       "        2.14490850e-01,  8.90201941e-02, -1.83005919e+00, -6.40080674e-01,\n",
       "        9.37706624e-01,  1.21311242e-01, -8.35111308e-01, -6.69490132e-01,\n",
       "        1.51717017e+00, -3.81169799e-01,  4.91197891e-01, -9.06311516e-01,\n",
       "        4.33209696e-01, -8.82674960e-01,  1.44310206e+00,  1.50038651e+00,\n",
       "        2.14468272e-01,  1.29247262e+00,  1.34066633e+00, -1.52001550e-01,\n",
       "       -1.07973210e-01,  9.39511156e-01,  8.38131833e-01,  1.71663274e+00,\n",
       "       -5.03153546e-01, -4.24464973e-01, -4.00458365e-01, -3.79990850e-01,\n",
       "       -3.40699731e-02, -5.49352917e-01, -8.49688130e-01, -9.14493660e-01,\n",
       "        7.61074633e-01, -2.92959674e-01,  7.51070644e-01,  1.07544263e+00,\n",
       "        1.60754084e-01,  2.12557070e+00,  8.48541362e-01, -1.64128558e+00,\n",
       "       -2.29798298e+00, -6.47443199e-01, -2.47589396e+00,  1.17039809e+00])"
      ]
     },
     "execution_count": 102,
     "metadata": {},
     "output_type": "execute_result"
    }
   ],
   "source": []
  },
  {
   "cell_type": "markdown",
   "metadata": {},
   "source": []
  }
 ],
 "metadata": {
  "kernelspec": {
   "display_name": "Python 3",
   "language": "python",
   "name": "python3"
  },
  "language_info": {
   "codemirror_mode": {
    "name": "ipython",
    "version": 3
   },
   "file_extension": ".py",
   "mimetype": "text/x-python",
   "name": "python",
   "nbconvert_exporter": "python",
   "pygments_lexer": "ipython3",
   "version": "3.6.5"
  }
 },
 "nbformat": 4,
 "nbformat_minor": 2
}
